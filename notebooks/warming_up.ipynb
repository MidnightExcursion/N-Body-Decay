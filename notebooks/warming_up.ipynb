{
 "cells": [
  {
   "cell_type": "markdown",
   "metadata": {},
   "source": [
    "# Decays\n",
    "\n",
    "What we want to try to do in this notebook is to get the correct expression for the decay of the Muon without any fancy loop corrections. This exercise is one that can be found in Griffiths. We want to try to do it with SymPy."
   ]
  },
  {
   "cell_type": "markdown",
   "metadata": {},
   "source": [
    "## (#1): Libraries:"
   ]
  },
  {
   "cell_type": "code",
   "execution_count": 27,
   "metadata": {},
   "outputs": [],
   "source": [
    "import sympy as sp"
   ]
  },
  {
   "cell_type": "markdown",
   "metadata": {},
   "source": [
    "## (#2): Constants:"
   ]
  },
  {
   "cell_type": "markdown",
   "metadata": {},
   "source": [
    "### (#2.1): Masses:"
   ]
  },
  {
   "cell_type": "code",
   "execution_count": 28,
   "metadata": {},
   "outputs": [],
   "source": [
    "# LEPTONS\n",
    "mass_electron_in_GeV = sp.symbols('m_e', real = True)\n",
    "mass_muon_in_GeV = sp.symbols('m_mu', real = True)\n",
    "mass_tau_in_GeV = sp.symbols('m_tau', real = True)\n",
    "\n",
    "mass_electron_neutrino_in_GeV = sp.symbols('m_nu_e', real = True)\n",
    "mass_muon_neutrino_in_GeV = sp.symbols('m_nu_mu', real = True)\n",
    "mass_tau_neutrino_in_GeV = sp.symbols('m_nu_tau', real = True)\n",
    "\n",
    "# QUARKS:\n",
    "mass_quark_up_in_GeV = sp.symbols('m_u', real = True)\n",
    "mass_quark_down_in_GeV = sp.symbols('m_d', real = True)\n",
    "mass_quark_strange_in_GeV = sp.symbols('m_s', real = True)\n",
    "mass_quark_charm_in_GeV = sp.symbols('m_c', real = True)\n",
    "mass_quark_bottom_in_GeV = sp.symbols('m_b', real = True)\n",
    "mass_quark_top_in_GeV = sp.symbols('m_t', real = True)\n",
    "\n",
    "# GAUGE BOSONS:\n",
    "mass_W_boson_in_GeV = sp.symbols('m_W', real = True)"
   ]
  },
  {
   "cell_type": "markdown",
   "metadata": {},
   "source": [
    "### (#2.2): Couplings:"
   ]
  },
  {
   "cell_type": "code",
   "execution_count": 29,
   "metadata": {},
   "outputs": [],
   "source": [
    "# COUPLINGS:\n",
    "gW_in_GeV = sp.symbols('g_W', real = True)"
   ]
  },
  {
   "cell_type": "markdown",
   "metadata": {},
   "source": [
    "### (#2.3): Symbolic Variables:"
   ]
  },
  {
   "cell_type": "code",
   "execution_count": 30,
   "metadata": {},
   "outputs": [],
   "source": [
    "# VARIABLES:\n",
    "m23Squared = sp.Symbol(\"m_23^2\", real = True)\n",
    "m12Squared = sp.Symbol(\"m_12^2\", real = True)"
   ]
  },
  {
   "cell_type": "markdown",
   "metadata": {},
   "source": [
    "## (#3): Two-Body Decay Function:\n",
    "\n",
    "Two-body decays are easy because there are enough constraints in the problem that no integrations are necessary. The equation that we need to code is just\n",
    "\n",
    "$$\\Gamma \\left( A \\to 1 + 2 \\right) = \\frac{S |\\mathcal{M}|^{2}}{8 \\pi m_{A}^{2}} \\frac{1}{2 m_{A}} \\sqrt{m_{A}^{4} + m_{1}^{4} + m_{2}^{4} - 2 \\left( m_{A}^{2} m_{1}^{2} + m_{A}^{2} m_{2}^{2} + m_{1}^{2} m_{2}^{2}\\right)}.$$\n",
    "\n",
    "For some more clarity, $S$ is a \"spin factor\" that is necessary if the two final state particles are identical (e.g. two electrons), and the fancy, huge square root term is called the $\\textbf{Källén Function}$, defined as\n",
    "\n",
    "$$\\lambda(x, y, z) := x^{2} + y^{2} + z^{2} - 2 x y - 2 x z - 2 y z.$$\n",
    "\n",
    "Of course, $\\mathcal{M}$ is the amplitude of the process that we calculate within QFT (Quantum Field Theory)."
   ]
  },
  {
   "cell_type": "markdown",
   "metadata": {},
   "source": [
    "### (#3.1): The Källén Function:"
   ]
  },
  {
   "cell_type": "code",
   "execution_count": 31,
   "metadata": {},
   "outputs": [],
   "source": [
    "def kallen_function(x, y, z):\n",
    "\n",
    "    try:\n",
    "\n",
    "        # (1): Compute the polynomial immediately:\n",
    "        kallen_polynomial = sp.Pow(x, 2) + sp.Pow(y, 2) + sp.Pow(z, 2) - 2 * (x * y + y * z + x * z)\n",
    "\n",
    "        # (2): Return the polynomial:\n",
    "        return kallen_polynomial\n",
    "    \n",
    "    except Exception as ERROR:\n",
    "        print(f\">Error calculating Kallen polynomial:\\n {ERROR}\")\n",
    "        return 0."
   ]
  },
  {
   "cell_type": "markdown",
   "metadata": {},
   "source": [
    "### (#3.2): Two-Body Decay Function:"
   ]
  },
  {
   "cell_type": "code",
   "execution_count": 32,
   "metadata": {},
   "outputs": [],
   "source": [
    "def decay_two_body(amplitude_squared, mass_A, mass_1,  mass_2, spin_factor: int = 1):\n",
    "    \n",
    "    try:\n",
    "\n",
    "        # (1): The Spin Factor:\n",
    "        spin_factor = spin_factor\n",
    "\n",
    "        # (2): Calculate the Two-Body Decay Prefactor:\n",
    "        two_body_decay_prefactor = spin_factor / (16 * sp.pi * sp.Pow(mass_A, 3))\n",
    "\n",
    "        # (3): Evaluate the Kallen Polynomial:\n",
    "        kallen_polynomial = sp.sqrt(kallen_function(sp.Pow(mass_A, 2), sp.Pow(mass_1, 2), sp.Pow(mass_2, 2)))\n",
    "\n",
    "        # (4): Return the actual expression:\n",
    "        two_body_decay_rate = two_body_decay_prefactor * kallen_polynomial * amplitude_squared\n",
    "        \n",
    "        # (5): Return the expression:\n",
    "        return two_body_decay_rate\n",
    "    \n",
    "    except Exception as ERROR:\n",
    "        print(f\"> Error calculating two-body decay rate:\\n {ERROR}\")\n",
    "        return 0"
   ]
  },
  {
   "cell_type": "markdown",
   "metadata": {},
   "source": [
    "### (#3.3): Examples of Two-Body Decay:"
   ]
  },
  {
   "cell_type": "markdown",
   "metadata": {},
   "source": [
    "#### (#3.3.1): Amplitude Squared of Unity:"
   ]
  },
  {
   "cell_type": "code",
   "execution_count": 33,
   "metadata": {},
   "outputs": [
    {
     "data": {
      "text/latex": [
       "$\\displaystyle \\frac{1}{16 \\pi m_{\\mu}}$"
      ],
      "text/plain": [
       "1/(16*pi*m_mu)"
      ]
     },
     "execution_count": 33,
     "metadata": {},
     "output_type": "execute_result"
    }
   ],
   "source": [
    "decay_two_body(1, mass_muon_in_GeV, 0,  0, 1)\n"
   ]
  },
  {
   "cell_type": "markdown",
   "metadata": {},
   "source": [
    "#### (#3.3.2): Amplitude Squared of Unity with Some Nonzero Final-State Masses:"
   ]
  },
  {
   "cell_type": "code",
   "execution_count": 34,
   "metadata": {},
   "outputs": [
    {
     "data": {
      "text/latex": [
       "$\\displaystyle \\frac{\\sqrt{m_{e}^{4} - 2 m_{e}^{2} m_{\\mu}^{2} - 2 m_{e}^{2} m_{\\tau}^{2} + m_{\\mu}^{4} - 2 m_{\\mu}^{2} m_{\\tau}^{2} + m_{\\tau}^{4}}}{16 \\pi m_{\\mu}^{3}}$"
      ],
      "text/plain": [
       "sqrt(m_e**4 - 2*m_e**2*m_mu**2 - 2*m_e**2*m_tau**2 + m_mu**4 - 2*m_mu**2*m_tau**2 + m_tau**4)/(16*pi*m_mu**3)"
      ]
     },
     "execution_count": 34,
     "metadata": {},
     "output_type": "execute_result"
    }
   ],
   "source": [
    "decay_two_body(1, mass_muon_in_GeV, mass_tau_in_GeV, mass_electron_in_GeV)"
   ]
  },
  {
   "cell_type": "markdown",
   "metadata": {},
   "source": [
    "## (#4): Three-Body Decay Function:\n",
    "\n",
    "We'll now implement the \"Dalitz Integration\" method. This is a little fancy, and we'll document it more later."
   ]
  },
  {
   "cell_type": "markdown",
   "metadata": {},
   "source": [
    "### (#4.1): Calculate the Bounds for the $m_{23}^{2}$ Variable:"
   ]
  },
  {
   "cell_type": "code",
   "execution_count": 35,
   "metadata": {},
   "outputs": [],
   "source": [
    "def calculate_m23Squared_bounds(mass_mother, mass_one, mass_two, mass_three) -> tuple:\n",
    "\n",
    "    try:\n",
    "\n",
    "        # (1): Compute what is called E_{2}^{*}:\n",
    "        e2Star = m12Squared - sp.Pow(mass_one, 2) + sp.Pow(mass_two, 2) / (2 * sp.sqrt(m12Squared))\n",
    "        \n",
    "        # (2): Compute what is called E_{3}^{*}:\n",
    "        e3Star = sp.Pow(mass_mother, 2) - m12Squared - sp.Pow(mass_three, 2) / (2 * sp.sqrt(m12Squared))\n",
    "\n",
    "        # (3): Compute the fancy root quantity with E_{2}^{*}:\n",
    "        root_with_e2Star = sp.sqrt(sp.Pow(e2Star, 2) - sp.Pow(mass_two, 2))\n",
    "\n",
    "        # (4): Compute the fancy root quantity with E_{3}^{*}:\n",
    "        root_with_e3Star = sp.sqrt(sp.Pow(e3Star, 2) - sp.Pow(mass_three, 2))\n",
    "\n",
    "        # (5): Go ahead and compute m_{23}^{2}'s Lower Bound:\n",
    "        m23Squared_lower_bound = sp.Pow(e2Star + e3Star, 2) - sp.Pow(root_with_e2Star + root_with_e3Star, 2)\n",
    "\n",
    "        # (6): Go ahead and compute m_{23}^{2}'s Upper Bound:\n",
    "        m23Squared_upper_bound = sp.Pow(e2Star + e3Star, 2) + sp.Pow(root_with_e2Star + root_with_e3Star, 2)\n",
    "\n",
    "        # (7): Return the bounds as a tuple:\n",
    "        return (m23Squared_lower_bound, m23Squared_upper_bound)\n",
    "    \n",
    "    except Exception as ERROR:\n",
    "        print(f\"> Error calculating three-body decay m23Squared bounds:\\n {ERROR}\")\n",
    "        return (0, 0)"
   ]
  },
  {
   "cell_type": "markdown",
   "metadata": {},
   "source": [
    "### (#4.2): Calculate the Bounds for the $m_{12}^{2}$ Variable:"
   ]
  },
  {
   "cell_type": "code",
   "execution_count": 36,
   "metadata": {},
   "outputs": [],
   "source": [
    "def calculate_m12Squared_bounds(mass_mother, mass_one, mass_two, mass_three) -> tuple:\n",
    "    \n",
    "    try:\n",
    "\n",
    "        # (1): Calculate m12Squared's lower bound immediately:\n",
    "        m12Squared_lower_bound = sp.Pow(mass_one + mass_two, 2)\n",
    "\n",
    "        # (2): Calculate m12Squared's upper bound immediately:\n",
    "        m12Squared_upper_bound = sp.Pow(mass_mother - mass_three, 2)\n",
    "\n",
    "        # (3): Return a tuple with the bounds:\n",
    "        return (m12Squared_lower_bound, m12Squared_upper_bound)\n",
    "    \n",
    "    except Exception as ERROR:\n",
    "        print(f\"> Error calculating three-body decay m12Squared bounds:\\n {ERROR}\")\n",
    "        return (0, 0)"
   ]
  },
  {
   "cell_type": "markdown",
   "metadata": {},
   "source": [
    "### (#4.3): The Three-Body Decay Function:"
   ]
  },
  {
   "cell_type": "code",
   "execution_count": 37,
   "metadata": {},
   "outputs": [],
   "source": [
    "def decay_three_body(amplitude_squared, mass_mother, mass_one, mass_two, mass_three):\n",
    "    \n",
    "    try:\n",
    "        \n",
    "        # (1): Construct the Dalitz Integral:\n",
    "        integrand = amplitude_squared / (sp.Pow(2 * sp.pi, 3) * 32 * sp.Pow(mass_mother, 3))\n",
    "\n",
    "        # (2): Obtain the bounds for m_{23}^{2}:\n",
    "        m23SquaredLowerBound, m23SquaredUpperBound = calculate_m23Squared_bounds(mass_mother, mass_one, mass_two, mass_three)\n",
    "\n",
    "        # (3): Obtain the bounds for m_{12}^{2}:\n",
    "        m12SquaredLowerBound, m12SquaredUpperBound = calculate_m12Squared_bounds(mass_mother, mass_one, mass_two, mass_three)\n",
    "\n",
    "        # (4): Attempt the integration:\n",
    "        dalitz_integration = sp.integrate(integrand, (m23Squared, m23SquaredLowerBound, m23SquaredUpperBound),  (m12Squared, m12SquaredLowerBound, m12SquaredUpperBound))\n",
    "\n",
    "        # (5): Return the result:\n",
    "        return dalitz_integration\n",
    "\n",
    "    except Exception as ERROR:\n",
    "        print(f\"> Error integrating the three-body Dalitz Integral:\\n {ERROR}\")\n",
    "        return 0"
   ]
  },
  {
   "cell_type": "markdown",
   "metadata": {},
   "source": [
    "### (#4.4): Examples of Three-Body Decay:"
   ]
  },
  {
   "cell_type": "markdown",
   "metadata": {},
   "source": [
    "#### (#4.4.1): Amplitude Squared of Unity:"
   ]
  },
  {
   "cell_type": "code",
   "execution_count": 38,
   "metadata": {},
   "outputs": [
    {
     "data": {
      "text/latex": [
       "$\\displaystyle \\frac{m_{\\tau}^{3}}{128 \\pi^{3}}$"
      ],
      "text/plain": [
       "m_tau**3/(128*pi**3)"
      ]
     },
     "execution_count": 38,
     "metadata": {},
     "output_type": "execute_result"
    }
   ],
   "source": [
    "decay_three_body(1, mass_tau_in_GeV, 0, 0, 0)"
   ]
  },
  {
   "cell_type": "markdown",
   "metadata": {},
   "source": [
    "#### (#4.4.2): Amplitude Squared of Unity with Nonzero Final-State Masses:\n",
    "\n",
    "Actually, these three-body decay integrals are usually quite difficult if there are nonzero final-state masses. So, we'll see how our function does. Usually, we can get analytical results with *one* final-state mass. Let's see how this works:"
   ]
  },
  {
   "cell_type": "code",
   "execution_count": 39,
   "metadata": {},
   "outputs": [
    {
     "data": {
      "text/latex": [
       "$\\displaystyle \\begin{cases} \\frac{\\left(- m_{e}^{2} + m_{\\tau}^{2}\\right)^{2}}{128 \\pi^{3} m_{\\tau}} - \\frac{\\left(- m_{e}^{2} + m_{\\tau}^{2}\\right)^{2} \\min\\left(m_{e}^{2}, m_{\\tau}^{2}\\right)}{128 \\pi^{3} m_{\\tau}^{3}} & \\text{for}\\: m_{e}^{2} < m_{\\tau}^{2} \\\\- m_{e}^{2} \\left(- \\frac{\\left(- m_{e}^{2} + m_{\\tau}^{2}\\right)^{2} - \\left(m_{e}^{2} - m_{\\tau}^{2}\\right)^{2}}{256 \\pi^{3} m_{\\tau}^{3}} + \\frac{\\left(- m_{e}^{2} + m_{\\tau}^{2}\\right)^{2} + \\left(m_{e}^{2} - m_{\\tau}^{2}\\right)^{2}}{256 \\pi^{3} m_{\\tau}^{3}}\\right) + \\left(- \\frac{\\left(- m_{e}^{2} + m_{\\tau}^{2}\\right)^{2} - \\left(m_{e}^{2} - m_{\\tau}^{2}\\right)^{2}}{256 \\pi^{3} m_{\\tau}^{3}} + \\frac{\\left(- m_{e}^{2} + m_{\\tau}^{2}\\right)^{2} + \\left(m_{e}^{2} - m_{\\tau}^{2}\\right)^{2}}{256 \\pi^{3} m_{\\tau}^{3}}\\right) \\min\\left(m_{e}^{2}, m_{\\tau}^{2}\\right) & \\text{otherwise} \\end{cases}$"
      ],
      "text/plain": [
       "Piecewise(((-m_e**2 + m_tau**2)**2/(128*pi**3*m_tau) - (-m_e**2 + m_tau**2)**2*Min(m_e**2, m_tau**2)/(128*pi**3*m_tau**3), m_e**2 < m_tau**2), (-m_e**2*(-((-m_e**2 + m_tau**2)**2 - (m_e**2 - m_tau**2)**2)/(256*pi**3*m_tau**3) + ((-m_e**2 + m_tau**2)**2 + (m_e**2 - m_tau**2)**2)/(256*pi**3*m_tau**3)) + (-((-m_e**2 + m_tau**2)**2 - (m_e**2 - m_tau**2)**2)/(256*pi**3*m_tau**3) + ((-m_e**2 + m_tau**2)**2 + (m_e**2 - m_tau**2)**2)/(256*pi**3*m_tau**3))*Min(m_e**2, m_tau**2), True))"
      ]
     },
     "execution_count": 39,
     "metadata": {},
     "output_type": "execute_result"
    }
   ],
   "source": [
    "decay_three_body(1, mass_tau_in_GeV, mass_electron_in_GeV, 0, 0)"
   ]
  },
  {
   "cell_type": "markdown",
   "metadata": {},
   "source": [
    "#### (#4.4.3): The Decay of the Muon with Massless Final-State Leptons:"
   ]
  },
  {
   "cell_type": "code",
   "execution_count": 40,
   "metadata": {},
   "outputs": [
    {
     "data": {
      "text/latex": [
       "$\\displaystyle \\frac{g_{W}^{4} m^{2}_{23} \\left(- m^{2}_{23} + m_{\\mu}^{2}\\right)}{2 m_{W}^{4}}$"
      ],
      "text/plain": [
       "g_W**4*m_23^2*(-m_23^2 + m_mu**2)/(2*m_W**4)"
      ]
     },
     "execution_count": 40,
     "metadata": {},
     "output_type": "execute_result"
    }
   ],
   "source": [
    "amplitude_squared_for_muon_decay = sp.Pow(gW_in_GeV, 4) * (-m23Squared + sp.Pow(mass_muon_in_GeV, 2)) * m23Squared / (2 * sp.Pow(mass_W_boson_in_GeV, 4))\n",
    "amplitude_squared_for_muon_decay"
   ]
  },
  {
   "cell_type": "code",
   "execution_count": 41,
   "metadata": {},
   "outputs": [
    {
     "data": {
      "text/latex": [
       "$\\displaystyle m_{\\mu}^{2} \\left(- \\frac{g_{W}^{4} m_{\\mu}^{9}}{192 \\pi^{3} m_{W}^{4}} + \\frac{g_{W}^{4} m_{\\mu}^{7}}{256 \\pi^{3} m_{W}^{4}}\\right)$"
      ],
      "text/plain": [
       "m_mu**2*(-g_W**4*m_mu**9/(192*pi**3*m_W**4) + g_W**4*m_mu**7/(256*pi**3*m_W**4))"
      ]
     },
     "execution_count": 41,
     "metadata": {},
     "output_type": "execute_result"
    }
   ],
   "source": [
    "decay_three_body(amplitude_squared_for_muon_decay, mass_muon_in_GeV, 0, 0, 0)"
   ]
  },
  {
   "cell_type": "markdown",
   "metadata": {},
   "source": [
    "This is 100% incorrect. So, we need to figure out what is going on. That will be for another day."
   ]
  },
  {
   "cell_type": "markdown",
   "metadata": {},
   "source": []
  }
 ],
 "metadata": {
  "kernelspec": {
   "display_name": "Python 3",
   "language": "python",
   "name": "python3"
  },
  "language_info": {
   "codemirror_mode": {
    "name": "ipython",
    "version": 3
   },
   "file_extension": ".py",
   "mimetype": "text/x-python",
   "name": "python",
   "nbconvert_exporter": "python",
   "pygments_lexer": "ipython3",
   "version": "3.10.5"
  }
 },
 "nbformat": 4,
 "nbformat_minor": 2
}
