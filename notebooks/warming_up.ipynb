{
 "cells": [
  {
   "cell_type": "markdown",
   "metadata": {},
   "source": [
    "# Decays\n",
    "\n",
    "What we want to try to do in this notebook is to get the correct expression for the decay of the Muon without any fancy loop corrections. This exercise is one that can be found in Griffiths. We want to try to do it with SymPy."
   ]
  },
  {
   "cell_type": "markdown",
   "metadata": {},
   "source": [
    "## (#1): Libraries:"
   ]
  },
  {
   "cell_type": "code",
   "execution_count": 1,
   "metadata": {},
   "outputs": [],
   "source": [
    "import sympy as sp"
   ]
  },
  {
   "cell_type": "markdown",
   "metadata": {},
   "source": [
    "## (#2): Constants:"
   ]
  },
  {
   "cell_type": "markdown",
   "metadata": {},
   "source": [
    "### (#2.1): Masses:"
   ]
  },
  {
   "cell_type": "code",
   "execution_count": 9,
   "metadata": {},
   "outputs": [],
   "source": [
    "# LEPTONS\n",
    "mass_electron_in_GeV = sp.symbols('m_e', real = True)\n",
    "mass_muon_in_GeV = sp.symbols('m_mu', real = True)\n",
    "mass_tau_in_GeV = sp.symbols('m_tau', real = True)\n",
    "\n",
    "mass_electron_neutrino_in_GeV = sp.symbols('m_nu_e', real = True)\n",
    "mass_muon_neutrino_in_GeV = sp.symbols('m_nu_mu', real = True)\n",
    "mass_tau_neutrino_in_GeV = sp.symbols('m_nu_tau', real = True)\n",
    "\n",
    "# QUARKS:\n",
    "mass_quark_up_in_GeV = sp.symbols('m_u', real = True)\n",
    "mass_quark_down_in_GeV = sp.symbols('m_d', real = True)\n",
    "mass_quark_strange_in_GeV = sp.symbols('m_s', real = True)\n",
    "mass_quark_charm_in_GeV = sp.symbols('m_c', real = True)\n",
    "mass_quark_bottom_in_GeV = sp.symbols('m_b', real = True)\n",
    "mass_quark_top_in_GeV = sp.symbols('m_t', real = True)\n",
    "\n",
    "# GAUGE BOSONS:\n",
    "mass_W_boson_in_GeV = sp.symbols('m_W', real = True)"
   ]
  },
  {
   "cell_type": "markdown",
   "metadata": {},
   "source": [
    "### (#2.2): Couplings:"
   ]
  },
  {
   "cell_type": "code",
   "execution_count": 10,
   "metadata": {},
   "outputs": [],
   "source": [
    "# COUPLINGS:\n",
    "gW_in_GeV = sp.symbols('g_W', real = True)"
   ]
  },
  {
   "cell_type": "markdown",
   "metadata": {},
   "source": [
    "### (#2.3): Symbolic Variables:"
   ]
  },
  {
   "cell_type": "code",
   "execution_count": 11,
   "metadata": {},
   "outputs": [],
   "source": [
    "# VARIABLES:\n",
    "m23Squared = sp.Symbol(\"m_23^2\", real = True)\n",
    "m12Squared = sp.Symbol(\"m_12^2\", real = True)"
   ]
  },
  {
   "cell_type": "markdown",
   "metadata": {},
   "source": [
    "## (#3): Two-Body Decay Function:\n",
    "\n",
    "Two-body decays are easy because there are enough constraints in the problem that no integrations are necessary. The equation that we need to code is just\n",
    "\n",
    "$$\\Gamma \\left( A \\to 1 + 2 \\right) = \\frac{S |\\mathcal{M}|^{2}}{8 \\pi m_{A}^{2}} \\frac{1}{2 m_{A}} \\sqrt{m_{A}^{4} + m_{1}^{4} + m_{2}^{4} - 2 \\left( m_{A}^{2} m_{1}^{2} + m_{A}^{2} m_{2}^{2} + m_{1}^{2} m_{2}^{2}\\right)}.$$\n",
    "\n",
    "For some more clarity, $S$ is a \"spin factor\" that is necessary if the two final state particles are identical (e.g. two electrons), and the fancy, huge square root term is called the $\\textbf{Källén Function}$, defined as\n",
    "\n",
    "$$\\lambda(x, y, z) := x^{2} + y^{2} + z^{2} - 2 x y - 2 x z - 2 y z.$$\n",
    "\n",
    "Of course, $\\mathcal{M}$ is the amplitude of the process that we calculate within QFT (Quantum Field Theory)."
   ]
  },
  {
   "cell_type": "markdown",
   "metadata": {},
   "source": [
    "### (#3.1): The Källén Function:"
   ]
  },
  {
   "cell_type": "code",
   "execution_count": 12,
   "metadata": {},
   "outputs": [],
   "source": [
    "def kallen_function(x, y, z):\n",
    "\n",
    "    try:\n",
    "        kallen_polynomial = sp.Pow(x, 2) + sp.Pow(y, 2) + sp.Pow(z, 2) - 2 * (x * y + y * z + x * z)\n",
    "        return kallen_polynomial\n",
    "    except:\n",
    "        print(f\">Error!\")\n",
    "        return 0."
   ]
  },
  {
   "cell_type": "markdown",
   "metadata": {},
   "source": [
    "### (#3.2): Two-Body Decay Function:"
   ]
  },
  {
   "cell_type": "code",
   "execution_count": 13,
   "metadata": {},
   "outputs": [],
   "source": [
    "def decay_two_body(amplitude_squared, mass_A, mass_1,  mass_2, spin_factor: int = 1):\n",
    "    \n",
    "    try:\n",
    "\n",
    "        # (1): The Spin Factor:\n",
    "        spin_factor = spin_factor\n",
    "\n",
    "        # (2): Calculate the Two-Body Decay Prefactor:\n",
    "        two_body_decay_prefactor = spin_factor / (16 * sp.pi * sp.Pow(mass_A, 3))\n",
    "\n",
    "        # (3): Evaluate the Kallen Polynomial:\n",
    "        kallen_polynomial = sp.sqrt(kallen_function(sp.Pow(mass_A, 2), sp.Pow(mass_1, 2), sp.Pow(mass_2, 2)))\n",
    "\n",
    "        # (4): Return the actual expression:\n",
    "        two_body_decay_rate = two_body_decay_prefactor * kallen_polynomial * amplitude_squared\n",
    "        \n",
    "        # (5): Return the expression:\n",
    "        return two_body_decay_rate\n",
    "    \n",
    "    except Exception as ERROR:\n",
    "        print(f\"> Error calculating two-body decay rate:\\n {ERROR}\")\n",
    "        return 0"
   ]
  },
  {
   "cell_type": "markdown",
   "metadata": {},
   "source": [
    "### (#3.3): Examples of Two-Body Decay:"
   ]
  },
  {
   "cell_type": "markdown",
   "metadata": {},
   "source": [
    "#### (#3.3.1): Amplitude Squared of Unity:"
   ]
  },
  {
   "cell_type": "code",
   "execution_count": 14,
   "metadata": {},
   "outputs": [
    {
     "data": {
      "text/latex": [
       "$\\displaystyle \\frac{1}{16 \\pi m_{\\mu}}$"
      ],
      "text/plain": [
       "1/(16*pi*m_mu)"
      ]
     },
     "execution_count": 14,
     "metadata": {},
     "output_type": "execute_result"
    }
   ],
   "source": [
    "decay_two_body(1, mass_muon_in_GeV, 0,  0, 1)\n"
   ]
  },
  {
   "cell_type": "markdown",
   "metadata": {},
   "source": [
    "#### (#3.3.2): Amplitude Squared of Unity with Some Nonzero Final-State Masses:"
   ]
  },
  {
   "cell_type": "code",
   "execution_count": 18,
   "metadata": {},
   "outputs": [
    {
     "data": {
      "text/latex": [
       "$\\displaystyle \\frac{5 \\sqrt{m_{e}^{4} - 2 m_{e}^{2} m_{\\mu}^{2} - 2 m_{e}^{2} m_{\\tau}^{2} + m_{\\mu}^{4} - 2 m_{\\mu}^{2} m_{\\tau}^{2} + m_{\\tau}^{4}}}{\\pi m_{\\mu}^{3}}$"
      ],
      "text/plain": [
       "5*sqrt(m_e**4 - 2*m_e**2*m_mu**2 - 2*m_e**2*m_tau**2 + m_mu**4 - 2*m_mu**2*m_tau**2 + m_tau**4)/(pi*m_mu**3)"
      ]
     },
     "execution_count": 18,
     "metadata": {},
     "output_type": "execute_result"
    }
   ],
   "source": [
    "decay_two_body(16 * 5, mass_muon_in_GeV, mass_tau_in_GeV, mass_electron_in_GeV)"
   ]
  },
  {
   "cell_type": "markdown",
   "metadata": {},
   "source": [
    "## (#4): Three-Body Decay Function:\n",
    "\n",
    "We'll now implement the \"Dalitz Integration\" method."
   ]
  },
  {
   "cell_type": "code",
   "execution_count": null,
   "metadata": {},
   "outputs": [],
   "source": [
    "def calculate_m23Squared_bounds(\n",
    "        mass_mother, \n",
    "        mass_one, \n",
    "        mass_two,\n",
    "        mass_three):\n",
    "\n",
    "    e2Star = m12Squared - sp.Pow(mass_one, 2) + sp.Pow(mass_two, 2) / (2 * sp.sqrt(m12Squared)) \n",
    "    e3Star = sp.Pow(mass_mother, 2) - m12Squared - sp.Pow(mass_three, 2) / (2 * sp.sqrt(m12Squared))\n",
    "\n",
    "    root_with_e2Star = sp.sqrt(sp.Pow(e2Star, 2) - sp.Pow(mass_two, 2))\n",
    "    root_with_e3Star = sp.sqrt(sp.Pow(e3Star, 2) - sp.Pow(mass_three, 2))\n",
    "\n",
    "    m23Squared_lower_bound = sp.Pow(e2Star + e3Star, 2) - sp.Pow(root_with_e2Star + root_with_e3Star, 2)\n",
    "    m23Squared_upper_bound = sp.Pow(e2Star + e3Star, 2) + sp.Pow(root_with_e2Star + root_with_e3Star, 2)\n",
    "\n",
    "    return (m23Squared_lower_bound, m23Squared_upper_bound)\n",
    "\n",
    "def calculate_m12Squared_bounds(\n",
    "        mass_mother, \n",
    "        mass_one, \n",
    "        mass_two,\n",
    "        mass_three):\n",
    "    \n",
    "    m12Squared_lower_bound = sp.Pow(mass_one + mass_two, 2)\n",
    "    m12Squared_upper_bound = sp.Pow(mass_mother - mass_three, 2)\n",
    "\n",
    "    return (m12Squared_lower_bound, m12Squared_upper_bound)\n",
    "    \n",
    "\n",
    "def decay_three_body(\n",
    "        mass_mother, \n",
    "        mass_one, \n",
    "        mass_two,\n",
    "        mass_three,\n",
    "        amplitude_squared):\n",
    "    \n",
    "    try:\n",
    "        \n",
    "        integrand = amplitude_squared / (sp.Pow(2 * sp.pi, 3) * 32 * sp.Pow(mass_mother, 3))\n",
    "\n",
    "        m23SquaredLowerBound, m23SquaredUpperBound = calculate_m23Squared_bounds(mass_mother, mass_one, mass_two, mass_three)\n",
    "        m12SquaredLowerBound, m12SquaredUpperBound = calculate_m12Squared_bounds(mass_mother, mass_one, mass_two, mass_three)\n",
    "\n",
    "        dalitz_integration = sp.integrate(integrand, (m23Squared, m23SquaredLowerBound, m23SquaredUpperBound),  (m12Squared, m12SquaredLowerBound, m12SquaredUpperBound))\n",
    "\n",
    "        return dalitz_integration\n",
    "\n",
    "    except:\n",
    "        print(f\"> Error!\")\n",
    "        return 0"
   ]
  }
 ],
 "metadata": {
  "kernelspec": {
   "display_name": "Python 3",
   "language": "python",
   "name": "python3"
  },
  "language_info": {
   "codemirror_mode": {
    "name": "ipython",
    "version": 3
   },
   "file_extension": ".py",
   "mimetype": "text/x-python",
   "name": "python",
   "nbconvert_exporter": "python",
   "pygments_lexer": "ipython3",
   "version": "3.10.5"
  }
 },
 "nbformat": 4,
 "nbformat_minor": 2
}
